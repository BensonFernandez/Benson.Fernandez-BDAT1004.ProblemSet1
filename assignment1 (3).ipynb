{
 "cells": [
  {
   "cell_type": "markdown",
   "id": "bf2720a1",
   "metadata": {},
   "source": [
    "# <p style=\"text-align: center;\">Data Programming Assignment- Problem Set 1 </p>"
   ]
  },
  {
   "cell_type": "markdown",
   "id": "29b259bb",
   "metadata": {},
   "source": [
    "## QN1. What data type is each of the following (evaluate where necessary)?\n",
    "\n",
    "- 5\n",
    "- 5.0\n",
    "- 5 > 1\n",
    "- '5'\n",
    "- 5 * 2\n",
    "- '5' * 2\n",
    "- '5' + '2'\n",
    "- 5 / 2\n",
    "- 5 % 2\n",
    "- {5, 2, 1}\n",
    "- 5 == 3\n",
    "- Pi (the number)\n"
   ]
  },
  {
   "cell_type": "code",
   "execution_count": 16,
   "id": "621d5d5e",
   "metadata": {},
   "outputs": [
    {
     "name": "stdout",
     "output_type": "stream",
     "text": [
      "the type of  5  is  <class 'int'>\n",
      "the type of  5.0  is  <class 'float'>\n",
      "the type of  5 > 1  is  <class 'bool'>\n",
      "the type of  '5'  is  <class 'str'>\n",
      "the type of  5 * 2  is  <class 'int'>\n",
      "the type of  '5' * 2  is  <class 'str'>\n",
      "the type of  '5' + '2'  is  <class 'str'>\n",
      "the type of  5 / 2  is  <class 'float'>\n",
      "the type of  5 % 2  is  <class 'int'>\n",
      "the type of  { 5, 2, 1 }  is  <class 'set'>\n",
      "the type of  5 == 3  is  <class 'bool'>\n",
      "the type of  pi  is  <class 'float'>\n"
     ]
    }
   ],
   "source": [
    "import math\n",
    "\n",
    "print(\"the type of \",5,\" is \", type(5))\n",
    "print(\"the type of \",5.0,\" is \",type(5.0))\n",
    "print(\"the type of \",\"5 > 1\",\" is \",type(5 > 1))\n",
    "print(\"the type of \",\"'5'\",\" is \",type('5'))\n",
    "print(\"the type of \",\"5 * 2\",\" is \",type(5 * 2))\n",
    "print(\"the type of \",\"'5' * 2\",\" is \",type('5' * 2))\n",
    "print(\"the type of \",\"'5' + '2'\",\" is \",type('5' + '2'))\n",
    "print(\"the type of \",\"5 / 2\",\" is \",type(5 / 2))\n",
    "print(\"the type of \",\"5 % 2\",\" is \",type(5 % 2))\n",
    "print(\"the type of \",\"{ 5, 2, 1 }\",\" is \",type({ 5, 2, 1 }))\n",
    "print(\"the type of \",\"5 == 3\",\" is \",type(5 == 3))\n",
    "print(\"the type of \",\"pi\",\" is \",type(math.pi))"
   ]
  },
  {
   "cell_type": "markdown",
   "id": "ab6f2b1d",
   "metadata": {},
   "source": [
    "## QN2.Write (and evaluate) python expressions that answer these questions:\n",
    "- a. How many letters are there in 'Supercalifragilisticexpialidocious'?\n",
    "- b. Does 'Supercalifragilisticexpialidocious' contain 'ice' as a substring? \n",
    "- c. Which of the following words is the longest:\n",
    "Supercalifragilisticexpialidocious, Honorificabilitudinitatibus, or\n",
    "Bababadalgharaghtakamminarronnkonn? \n",
    "- d. Which composer comes first in the dictionary: 'Berlioz', 'Borodin', 'Brian',\n",
    "'Bartok', 'Bellini', 'Buxtehude', 'Bernstein'. Which one comes last?"
   ]
  },
  {
   "cell_type": "code",
   "execution_count": 17,
   "id": "377148ac",
   "metadata": {},
   "outputs": [
    {
     "name": "stdout",
     "output_type": "stream",
     "text": [
      "a. the length of Supercalifragilisticexpialidocious =  34\n",
      "b. True\n",
      "c. The longest word is :  Supercalifragilisticexpialidocious\n",
      "d. first word :  Bartok\n",
      "   last word  :  Buxtehude\n"
     ]
    }
   ],
   "source": [
    "qn2_word1 = 'Supercalifragilisticexpialidocious'\n",
    "Length = len(qn2_word1)\n",
    "print(\"a. the length of Supercalifragilisticexpialidocious = \",Length)\n",
    "\n",
    "qn2_word2 = 'Supercalifragilisticexpialidocious'\n",
    "substr = 'ice'\n",
    "substr_check = substr in qn2_word2\n",
    "print(\"b.\",substr_check)\n",
    "\n",
    "qn2_word3 = ['Supercalifragilisticexpialidocious', 'Honorificabilitudinitatibus', 'Bababadalgharaghtakamminarronnkonn']\n",
    "max_long_word = max(qn2_word3, key=len)\n",
    "print(\"c. The longest word is : \",max_long_word)\n",
    "\n",
    "qn2_word4 = ['Berlioz', 'Borodin', 'Brian', 'Bartok', 'Bellini', 'Buxtehude', 'Bernstein']\n",
    "qn2_word4.sort()\n",
    "first_word = qn2_word4[0]\n",
    "last_word = qn2_word4[-1]\n",
    "print(\"d. first word : \",first_word)\n",
    "print(\"   last word  : \",last_word)"
   ]
  },
  {
   "cell_type": "markdown",
   "id": "6c7e1621",
   "metadata": {},
   "source": [
    "## QN3. Implement function triangleArea(a,b,c) that takes as input the lengths of the 3 sides of a triangle and returns the area of the triangle. \n",
    "By Heron's formula, the area\n",
    "of a triangle with side lengths a, b, and c is\n",
    "s(s - a)(s -b)(s -c)\n",
    ", where\n",
    "s = (a+b+c)/2. "
   ]
  },
  {
   "cell_type": "code",
   "execution_count": 18,
   "id": "b0f32068",
   "metadata": {},
   "outputs": [
    {
     "name": "stdout",
     "output_type": "stream",
     "text": [
      "Enter the length of side a: 2\n",
      "Enter the length of side b: 2\n",
      "Enter the length of side c: 2\n",
      "The area of the triangle is: 1.7320508075688772\n"
     ]
    }
   ],
   "source": [
    "def areaofTriangle(a, b, c):\n",
    "    s = (a + b + c) / 2\n",
    "    area = (s * (s - a) * (s - b) * (s - c)) ** 0.5\n",
    "    return area\n",
    "\n",
    "a = float(input(\"Enter the length of side a: \"))\n",
    "b = float(input(\"Enter the length of side b: \"))\n",
    "c = float(input(\"Enter the length of side c: \"))\n",
    "\n",
    "area = areaofTriangle(a, b, c)\n",
    "print(\"The area of the triangle is:\", area)"
   ]
  },
  {
   "cell_type": "markdown",
   "id": "0490a010",
   "metadata": {},
   "source": [
    "## QN4. Write a program in python to separate odd and even integers in separate arrays. "
   ]
  },
  {
   "cell_type": "code",
   "execution_count": 20,
   "id": "bf4f234c",
   "metadata": {},
   "outputs": [
    {
     "name": "stdout",
     "output_type": "stream",
     "text": [
      "How many numbers do you want to check: 6\n",
      "Enter the number 1: 10\n",
      "Enter the number 2: 21\n",
      "Enter the number 3: 33\n",
      "Enter the number 4: 44\n",
      "Enter the number 5: 55\n",
      "Enter the number 6: 99\n",
      "Odd numbers: [21, 33, 55, 99]\n",
      "Even numbers: [10, 44]\n"
     ]
    }
   ],
   "source": [
    "num_elements = int(input(\"How many numbers do you want to check: \"))\n",
    "\n",
    "odd_nos = []\n",
    "even_nos = []\n",
    "    \n",
    "for i in range(num_elements):\n",
    "    num = int(input(\"Enter the number {}: \".format(i + 1)))\n",
    "    if num % 2 == 0:\n",
    "        even_nos.append(num)\n",
    "    else:\n",
    "        odd_nos.append(num)\n",
    "\n",
    "print(\"Odd numbers:\", odd_nos)\n",
    "print(\"Even numbers:\", even_nos)"
   ]
  },
  {
   "cell_type": "markdown",
   "id": "d39096ff",
   "metadata": {},
   "source": [
    "## QN 5.a. Write a function inside(x,y,x1,y1,x2,y2) that returns True or False depending on whether the point (x,y) lies in the rectangle with lower left corner (x1,y1) and upper right corner (x2,y2).\n"
   ]
  },
  {
   "cell_type": "code",
   "execution_count": 9,
   "id": "53e0bbf0",
   "metadata": {},
   "outputs": [
    {
     "name": "stdout",
     "output_type": "stream",
     "text": [
      "Enter the value of x: 1\n",
      "Enter the value of y: 1\n",
      "Enter the value of lower left x: 0\n",
      "Enter the value of lower left y: 0\n",
      "Enter the value of upper right x: 3\n",
      "Enter the value of upper right y: 3\n",
      "the point( 1.0 , 1.0 ) lies between the lower left point ( 0.0 , 0.0 ) and the upper right point ( 3.0 , 3.0 )\n",
      " \n"
     ]
    }
   ],
   "source": [
    "def inside(x, y, x1, y1, x2, y2):\n",
    "    if x >= x1 and x <= x2 and y >= y1 and y <= y2:\n",
    "        return True\n",
    "    else:\n",
    "        return False\n",
    "    \n",
    "x = float(input(\"Enter the value of x: \"))\n",
    "y = float(input(\"Enter the value of y: \"))\n",
    "x1 = float(input(\"Enter the value of lower left x: \"))\n",
    "y1 = float(input(\"Enter the value of lower left y: \"))\n",
    "x2 = float(input(\"Enter the value of upper right x: \"))\n",
    "y2 = float(input(\"Enter the value of upper right y: \"))\n",
    "\n",
    "\n",
    "if inside(x, y, x1, y1, x2, y2):\n",
    "        print(\"the point(\",x,\",\",y,\") lies between the lower left point (\",x1,\",\", y1,\") and the upper right point (\",x2,\",\", y2,\")\")\n",
    "else: \n",
    "        print(\"the point(\",x,\",\",y,\") do not lie between the lower left point (\",x1,\",\", y1,\") and the upper right point (\",x2,\",\", y2,\")\")\n",
    "print(\" \")\n",
    "\n",
    "\n",
    "\n"
   ]
  },
  {
   "cell_type": "markdown",
   "id": "a30fbc7c",
   "metadata": {},
   "source": [
    "## QN5.b. Use function inside() from part a. to write an expression that tests whether the point (1,1) lies in both of the following rectangles: one with lower left corner (0.3, 0.5) and upper right corner (1.1, 0.7) and the other with lower left corner (0.5, 0.2) and upper right corner (1.1, 2). "
   ]
  },
  {
   "cell_type": "code",
   "execution_count": 21,
   "id": "910b0e4f",
   "metadata": {},
   "outputs": [
    {
     "name": "stdout",
     "output_type": "stream",
     "text": [
      "To check if point (1, 1) lies between the set of points (0.3, 0.5, 1.1, 0.7) and the set of points (0.5, 0.2, 1.1, 2)\n",
      " \n",
      "the point( 1 , 1 ) do not lie between the lower left point ( 0.3 , 0.5 ) and the upper right point ( 1.1 , 0.7 )\n",
      "the point( 1 , 1 ) lies between the lower left point ( 0.5 , 0.2 ) and the upper right point ( 1.1 , 2 )\n"
     ]
    }
   ],
   "source": [
    "def inside(x, y, x1, y1, x2, y2):\n",
    "    if x >= x1 and x <= x2 and y >= y1 and y <= y2:\n",
    "        return True\n",
    "    else:\n",
    "        return False\n",
    "\n",
    "print(\"To check if point (1, 1) lies between the set of points (0.3, 0.5, 1.1, 0.7) and the set of points (0.5, 0.2, 1.1, 2)\")\n",
    "point = (1, 1)\n",
    "print(\" \")\n",
    "rectangle1 = (0.3, 0.5, 1.1, 0.7)\n",
    "rectangle2 = (0.5, 0.2, 1.1, 2)\n",
    "\n",
    "check_rectangle1 = inside(point[0], point[1], rectangle1[0], rectangle1[1], rectangle1[2], rectangle1[3])\n",
    "check_rectangle2 = inside(point[0], point[1], rectangle2[0], rectangle2[1], rectangle2[2], rectangle2[3])\n",
    "\n",
    "if (check_rectangle1):\n",
    "        print(\"the point(\",point[0],\",\",point[1],\") lies between the lower left point (\",rectangle1[0],\",\", rectangle1[1],\") and the upper right point (\",rectangle1[2],\",\", rectangle1[3],\")\")\n",
    "else: \n",
    "        print(\"the point(\",point[0],\",\",point[1],\") do not lie between the lower left point (\",rectangle1[0],\",\", rectangle1[1],\") and the upper right point (\",rectangle1[2],\",\", rectangle1[3],\")\")\n",
    "\n",
    "if (check_rectangle2):\n",
    "        print(\"the point(\",point[0],\",\",point[1],\") lies between the lower left point (\",rectangle2[0],\",\", rectangle2[1],\") and the upper right point (\",rectangle2[2],\",\", rectangle2[3],\")\")\n",
    "else:\n",
    "        print(\"the point(\",point[0],\",\",point[1],\") do not lie between the lower left point (\",rectangle2[0],\",\", rectangle2[1],\") and the upper right point (\",rectangle2[2],\",\", rectangle2[3],\")\")\n"
   ]
  },
  {
   "cell_type": "markdown",
   "id": "9d8c137f",
   "metadata": {},
   "source": [
    "## QN 6. You can turn a word into pig-Latin using the following two rules (simplified):\n",
    "- If the word starts with a consonant, move that letter to the end and append 'ay'. For example, 'happy' becomes 'appyhay' and 'pencil' becomes 'encilpay'.\n",
    "- If the word starts with a vowel, simply append 'way' to the end of the word. For example, 'enter' becomes 'enterway' and 'other' becomes 'otherway' . For\n",
    "- our purposes, there are 5 vowels: a, e, i, o, u (so we count y as a consonant).\n",
    "## Write a function pig() that takes a word (i.e., a string) as input and returns its pigLatin form. Your function should still work if the input word contains upper case characters. Your output should always be lower case however. "
   ]
  },
  {
   "cell_type": "code",
   "execution_count": 22,
   "id": "8cb1ad2d",
   "metadata": {},
   "outputs": [
    {
     "name": "stdout",
     "output_type": "stream",
     "text": [
      "Enter custom word: Argentina\n",
      "The pig_latin word for  Argentina  is  argentinaway\n"
     ]
    }
   ],
   "source": [
    "def pig(word_check):\n",
    "    vowels = ['a', 'e', 'i', 'o', 'u']\n",
    "    word_check = word_check.lower()\n",
    "    \n",
    "    if word_check[0] in vowels:\n",
    "       \n",
    "        pig_latin = word_check + 'way'\n",
    "    else:\n",
    "        pig_latin = word_check[1:] + word_check[0] + 'ay'\n",
    "    \n",
    "    return pig_latin\n",
    "\n",
    "word1 = str(input(\"Enter custom word: \"))\n",
    "\n",
    "print(\"The pig_latin word for \",word1,\" is \",pig(word1))"
   ]
  },
  {
   "cell_type": "markdown",
   "id": "1cddad6d",
   "metadata": {},
   "source": [
    "## QN 7. File bloodtype1.txt records blood-types of patients (A, B, AB, O or OO) at a clinic. Write a function bldcount() that reads the file with name name and reports (i.e., prints) how many patients there are in each bloodtype"
   ]
  },
  {
   "cell_type": "code",
   "execution_count": 23,
   "id": "5215d267",
   "metadata": {},
   "outputs": [
    {
     "name": "stdout",
     "output_type": "stream",
     "text": [
      "There are 15 patients of blood type A.\n",
      "There is one patient of blood type B.\n",
      "There are 13 patients of blood type AB.\n",
      "There are 15 patients of blood type O.\n",
      "There are 0 patients of blood type OO.\n"
     ]
    }
   ],
   "source": [
    "def bldcount(name):\n",
    "    blood_count = {'A': 0, 'B': 0, 'AB': 0, 'O': 0, 'OO': 0}\n",
    "\n",
    "    with open(name, 'r') as file:\n",
    "        blood_types = file.read().split()\n",
    "\n",
    "        for blood_type in blood_types:\n",
    "            if blood_type in blood_count:\n",
    "                blood_count[blood_type] += 1\n",
    "\n",
    "    for blood_type, count in blood_count.items():\n",
    "        if count == 1:\n",
    "            print(\"There is one patient of blood type\", blood_type + \".\")\n",
    "        else:\n",
    "            print(\"There are\", count, \"patients of blood type\", blood_type + \".\")\n",
    "\n",
    "\n",
    "bldcount('bloodgrp.txt')"
   ]
  },
  {
   "cell_type": "markdown",
   "id": "3349c073",
   "metadata": {},
   "source": [
    "## QN8. Write a function curconv() that takes as input:\n",
    "- 1. a currency represented using a string (e.g., 'JPY' for the Japanese Yen or 'EUR' for the Euro)\n",
    "- 2. an amount and then converts and returns the amount in US dollars"
   ]
  },
  {
   "cell_type": "code",
   "execution_count": 24,
   "id": "7f62ce52",
   "metadata": {},
   "outputs": [
    {
     "name": "stdout",
     "output_type": "stream",
     "text": [
      "List of currencies avaliable\n",
      "AUD CHF CNY DKK EUR GBP HKD INR JPY MXN MYR NOK NZD PHP SEK SGD THB\n",
      "\n",
      "Enter your desired currency type: JPY\n",
      "Enter the amount you need to convert: 150\n",
      "\n",
      " 150.0   JPY  is equivalent to  1.8621014999999999  US Dollars\n"
     ]
    }
   ],
   "source": [
    "def curconv(currency, amount):\n",
    "    with open('currencies.txt', 'r') as file:\n",
    "        for line in file:\n",
    "            parts = line.split()\n",
    "            if parts[0] == currency:\n",
    "                exchange_rate = float(parts[1])\n",
    "                converted_amount = amount * exchange_rate\n",
    "                return converted_amount\n",
    "            \n",
    "\n",
    "    return None\n",
    "\n",
    "\n",
    "\n",
    "print(\"List of currencies avaliable\")\n",
    "print(\"AUD CHF CNY DKK EUR GBP HKD INR JPY MXN MYR NOK NZD PHP SEK SGD THB\")\n",
    "currency_list = \"AUD CHF CNY DKK EUR GBP HKD INR JPY MXN MYR NOK NZD PHP SEK SGD THB\"\n",
    "\n",
    "currency1=str(input(\"\\nEnter your desired currency type: \"))\n",
    "if currency1 in currency_list:\n",
    "    amount2=float(input(\"Enter the amount you need to convert: \"))\n",
    "    print(\"\\n\",amount2, \" \", currency1, \" is equivalent to \", curconv(currency1,amount2), \" US Dollars\")\n",
    "else:\n",
    "    print(\"invalid currency type\")"
   ]
  },
  {
   "cell_type": "markdown",
   "id": "9fc078e1",
   "metadata": {},
   "source": [
    "## QN 9.a. Identify what type of exception - Trying to add incompatible variables, as in adding 6 + ‘a’\n",
    "\n",
    "\n"
   ]
  },
  {
   "cell_type": "code",
   "execution_count": 2,
   "id": "044a0beb",
   "metadata": {},
   "outputs": [
    {
     "ename": "SyntaxError",
     "evalue": "invalid character '‘' (U+2018) (2798042836.py, line 1)",
     "output_type": "error",
     "traceback": [
      "\u001b[1;36m  Cell \u001b[1;32mIn[2], line 1\u001b[1;36m\u001b[0m\n\u001b[1;33m    question1=6 + ‘a’\u001b[0m\n\u001b[1;37m                  ^\u001b[0m\n\u001b[1;31mSyntaxError\u001b[0m\u001b[1;31m:\u001b[0m invalid character '‘' (U+2018)\n"
     ]
    }
   ],
   "source": [
    "question1=6 + ‘a’\n",
    "print(question1)"
   ]
  },
  {
   "cell_type": "markdown",
   "id": "20ffe9d7",
   "metadata": {},
   "source": [
    "## QN 9.b. Identify what type of exception - Referring to the 12th item of a list that has only 10 items"
   ]
  },
  {
   "cell_type": "code",
   "execution_count": 141,
   "id": "dcfe7a4b",
   "metadata": {},
   "outputs": [
    {
     "ename": "IndexError",
     "evalue": "list index out of range",
     "output_type": "error",
     "traceback": [
      "\u001b[1;31m---------------------------------------------------------------------------\u001b[0m",
      "\u001b[1;31mIndexError\u001b[0m                                Traceback (most recent call last)",
      "Cell \u001b[1;32mIn[141], line 2\u001b[0m\n\u001b[0;32m      1\u001b[0m question2\u001b[38;5;241m=\u001b[39m[\u001b[38;5;241m1\u001b[39m, \u001b[38;5;241m2\u001b[39m, \u001b[38;5;241m3\u001b[39m, \u001b[38;5;241m4\u001b[39m, \u001b[38;5;241m5\u001b[39m, \u001b[38;5;241m6\u001b[39m, \u001b[38;5;241m7\u001b[39m, \u001b[38;5;241m8\u001b[39m, \u001b[38;5;241m9\u001b[39m, \u001b[38;5;241m10\u001b[39m]\n\u001b[1;32m----> 2\u001b[0m \u001b[38;5;28mprint\u001b[39m(\u001b[43mquestion2\u001b[49m\u001b[43m[\u001b[49m\u001b[38;5;241;43m12\u001b[39;49m\u001b[43m]\u001b[49m)\n",
      "\u001b[1;31mIndexError\u001b[0m: list index out of range"
     ]
    }
   ],
   "source": [
    "question2=[1, 2, 3, 4, 5, 6, 7, 8, 9, 10]\n",
    "print(question2[12])"
   ]
  },
  {
   "cell_type": "markdown",
   "id": "5e2d526d",
   "metadata": {},
   "source": [
    "## QN 9.c. Identify what type of exception - Using a value that is out of range for a function’s input, such as calling math.sqrt(-1.0)\n"
   ]
  },
  {
   "cell_type": "code",
   "execution_count": 142,
   "id": "7840c9ff",
   "metadata": {},
   "outputs": [
    {
     "name": "stdout",
     "output_type": "stream",
     "text": [
      "enter a number:-3\n"
     ]
    },
    {
     "ename": "ValueError",
     "evalue": "math domain error",
     "output_type": "error",
     "traceback": [
      "\u001b[1;31m---------------------------------------------------------------------------\u001b[0m",
      "\u001b[1;31mValueError\u001b[0m                                Traceback (most recent call last)",
      "Cell \u001b[1;32mIn[142], line 4\u001b[0m\n\u001b[0;32m      1\u001b[0m \u001b[38;5;28;01mimport\u001b[39;00m \u001b[38;5;21;01mmath\u001b[39;00m\n\u001b[0;32m      3\u001b[0m question3\u001b[38;5;241m=\u001b[39m\u001b[38;5;28mint\u001b[39m(\u001b[38;5;28minput\u001b[39m(\u001b[38;5;124m\"\u001b[39m\u001b[38;5;124menter a number:\u001b[39m\u001b[38;5;124m\"\u001b[39m))\n\u001b[1;32m----> 4\u001b[0m \u001b[43mmath\u001b[49m\u001b[38;5;241;43m.\u001b[39;49m\u001b[43msqrt\u001b[49m\u001b[43m(\u001b[49m\u001b[43mquestion3\u001b[49m\u001b[43m)\u001b[49m\n",
      "\u001b[1;31mValueError\u001b[0m: math domain error"
     ]
    }
   ],
   "source": [
    "import math\n",
    "\n",
    "question3=int(input(\"enter a number:\"))\n",
    "math.sqrt(question3)"
   ]
  },
  {
   "cell_type": "markdown",
   "id": "04e910df",
   "metadata": {},
   "source": [
    "## QN 9.d. Identify what type of exception - Using an undeclared variable, such as print(x) when x has not been defined"
   ]
  },
  {
   "cell_type": "code",
   "execution_count": 143,
   "id": "35ef13f1",
   "metadata": {},
   "outputs": [
    {
     "ename": "NameError",
     "evalue": "name 'question40' is not defined",
     "output_type": "error",
     "traceback": [
      "\u001b[1;31m---------------------------------------------------------------------------\u001b[0m",
      "\u001b[1;31mNameError\u001b[0m                                 Traceback (most recent call last)",
      "Cell \u001b[1;32mIn[143], line 2\u001b[0m\n\u001b[0;32m      1\u001b[0m question4\u001b[38;5;241m=\u001b[39m\u001b[38;5;241m10\u001b[39m\n\u001b[1;32m----> 2\u001b[0m \u001b[38;5;28mprint\u001b[39m(\u001b[43mquestion40\u001b[49m)\n",
      "\u001b[1;31mNameError\u001b[0m: name 'question40' is not defined"
     ]
    }
   ],
   "source": [
    "question4=10\n",
    "print(question40)"
   ]
  },
  {
   "cell_type": "markdown",
   "id": "46722252",
   "metadata": {},
   "source": [
    "## QN 9.e. Identify what type of exception - Trying to open a file that does not exist, such as mistyping the file name or looking in the wrong directory"
   ]
  },
  {
   "cell_type": "code",
   "execution_count": 146,
   "id": "b88a89c8",
   "metadata": {},
   "outputs": [
    {
     "ename": "FileNotFoundError",
     "evalue": "[Errno 2] No such file or directory: 'Document/bloodgrp.txt'",
     "output_type": "error",
     "traceback": [
      "\u001b[1;31m---------------------------------------------------------------------------\u001b[0m",
      "\u001b[1;31mFileNotFoundError\u001b[0m                         Traceback (most recent call last)",
      "Cell \u001b[1;32mIn[146], line 2\u001b[0m\n\u001b[0;32m      1\u001b[0m question5 \u001b[38;5;241m=\u001b[39m \u001b[38;5;124m'\u001b[39m\u001b[38;5;124mDocument/bloodgrp.txt\u001b[39m\u001b[38;5;124m'\u001b[39m\n\u001b[1;32m----> 2\u001b[0m \u001b[38;5;28;01mwith\u001b[39;00m \u001b[38;5;28;43mopen\u001b[39;49m\u001b[43m(\u001b[49m\u001b[43mquestion5\u001b[49m\u001b[43m,\u001b[49m\u001b[43m \u001b[49m\u001b[38;5;124;43m'\u001b[39;49m\u001b[38;5;124;43mr\u001b[39;49m\u001b[38;5;124;43m'\u001b[39;49m\u001b[43m)\u001b[49m \u001b[38;5;28;01mas\u001b[39;00m file:\n\u001b[0;32m      3\u001b[0m     contents \u001b[38;5;241m=\u001b[39m file\u001b[38;5;241m.\u001b[39mread()\n\u001b[0;32m      4\u001b[0m     \u001b[38;5;28mprint\u001b[39m(contents)\n",
      "File \u001b[1;32m~\\anaconda3\\lib\\site-packages\\IPython\\core\\interactiveshell.py:282\u001b[0m, in \u001b[0;36m_modified_open\u001b[1;34m(file, *args, **kwargs)\u001b[0m\n\u001b[0;32m    275\u001b[0m \u001b[38;5;28;01mif\u001b[39;00m file \u001b[38;5;129;01min\u001b[39;00m {\u001b[38;5;241m0\u001b[39m, \u001b[38;5;241m1\u001b[39m, \u001b[38;5;241m2\u001b[39m}:\n\u001b[0;32m    276\u001b[0m     \u001b[38;5;28;01mraise\u001b[39;00m \u001b[38;5;167;01mValueError\u001b[39;00m(\n\u001b[0;32m    277\u001b[0m         \u001b[38;5;124mf\u001b[39m\u001b[38;5;124m\"\u001b[39m\u001b[38;5;124mIPython won\u001b[39m\u001b[38;5;124m'\u001b[39m\u001b[38;5;124mt let you open fd=\u001b[39m\u001b[38;5;132;01m{\u001b[39;00mfile\u001b[38;5;132;01m}\u001b[39;00m\u001b[38;5;124m by default \u001b[39m\u001b[38;5;124m\"\u001b[39m\n\u001b[0;32m    278\u001b[0m         \u001b[38;5;124m\"\u001b[39m\u001b[38;5;124mas it is likely to crash IPython. If you know what you are doing, \u001b[39m\u001b[38;5;124m\"\u001b[39m\n\u001b[0;32m    279\u001b[0m         \u001b[38;5;124m\"\u001b[39m\u001b[38;5;124myou can use builtins\u001b[39m\u001b[38;5;124m'\u001b[39m\u001b[38;5;124m open.\u001b[39m\u001b[38;5;124m\"\u001b[39m\n\u001b[0;32m    280\u001b[0m     )\n\u001b[1;32m--> 282\u001b[0m \u001b[38;5;28;01mreturn\u001b[39;00m io_open(file, \u001b[38;5;241m*\u001b[39margs, \u001b[38;5;241m*\u001b[39m\u001b[38;5;241m*\u001b[39mkwargs)\n",
      "\u001b[1;31mFileNotFoundError\u001b[0m: [Errno 2] No such file or directory: 'Document/bloodgrp.txt'"
     ]
    }
   ],
   "source": [
    "question5 = 'Document/bloodgrp.txt'\n",
    "with open(question5, 'r') as file:\n",
    "    contents = file.read()\n",
    "    print(contents)"
   ]
  },
  {
   "cell_type": "markdown",
   "id": "93484fe2",
   "metadata": {},
   "source": [
    "## QN 10. Encryption is the process of hiding the meaning of a text by substituting letters in the message with other letters, according to some system. If the process is successful, no one but the intended recipient can understand the encrypted message. Cryptanalysis refers to attempts to undo the encryption, even if some details of the encryption are unknown (for example, if an encrypted message has been intercepted). The first step of cryptanalysis is often to build up a table of letter frequencies in the encrypted text.\n",
    "- Assume that the string letters is already defined as 'abcdefghijklmnopqrstuvwxyz'. Write a function called frequencies() that takes a string as its only parameter, and returns a list of integers, showing the number of times each character appears in the text. \n",
    "- Your function may ignore any characters that are not in letters"
   ]
  },
  {
   "cell_type": "code",
   "execution_count": 25,
   "id": "7fb67a26",
   "metadata": {},
   "outputs": [
    {
     "name": "stdout",
     "output_type": "stream",
     "text": [
      "Enter your String:DATA PROGRAMMING\n",
      "\n",
      " a, b, c, d, e, f, g, h, i, j, k, l, m, n, o, p, q, r, s, t, u, v, w, x, y, z \n",
      "[3, 0, 0, 1, 0, 0, 2, 0, 1, 0, 0, 0, 2, 1, 1, 1, 0, 2, 0, 1, 0, 0, 0, 0, 0, 0]\n"
     ]
    }
   ],
   "source": [
    "def frequencies(text):\n",
    "    letters = 'abcdefghijklmnopqrstuvwxyz'\n",
    "    letter_count = [0] * 26\n",
    "\n",
    "    lower_text = text.lower()\n",
    "\n",
    "    for char in lower_text:\n",
    "        if char in letters:\n",
    "            index = letters.index(char)\n",
    "            letter_count[index] += 1\n",
    "\n",
    "    return letter_count\n",
    "\n",
    "    \n",
    "encrypted_text = str(input(\"Enter your String:\"))\n",
    "alphabets = [chr(i) for i in range(ord('a'), ord('z') + 1)]\n",
    "formatted_alphabets = ', '.join(alphabets)\n",
    "print(\"\")\n",
    "print('', formatted_alphabets, '')\n",
    "result = frequencies(encrypted_text)\n",
    "print(result)"
   ]
  },
  {
   "cell_type": "code",
   "execution_count": null,
   "id": "0da9244b",
   "metadata": {},
   "outputs": [],
   "source": []
  }
 ],
 "metadata": {
  "kernelspec": {
   "display_name": "Python 3 (ipykernel)",
   "language": "python",
   "name": "python3"
  },
  "language_info": {
   "codemirror_mode": {
    "name": "ipython",
    "version": 3
   },
   "file_extension": ".py",
   "mimetype": "text/x-python",
   "name": "python",
   "nbconvert_exporter": "python",
   "pygments_lexer": "ipython3",
   "version": "3.10.9"
  }
 },
 "nbformat": 4,
 "nbformat_minor": 5
}
